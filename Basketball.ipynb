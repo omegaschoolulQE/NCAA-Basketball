{
 "cells": [
  {
   "cell_type": "markdown",
   "metadata": {},
   "source": [
    "**NCAA Basketball Graphing Assignment**\n",
    "===================================\n",
    "--------------------------------------------------------------"
   ]
  },
  {
   "cell_type": "code",
   "execution_count": 1,
   "metadata": {},
   "outputs": [],
   "source": [
    "from          bs4 import BeautifulSoup\n",
    "import        requests, pandas as pd, csv  \n",
    "import        numpy as np\n",
    "import        matplotlib.pyplot as plt"
   ]
  },
  {
   "cell_type": "markdown",
   "metadata": {},
   "source": [
    "## <font color='purple'> ***Scraping The Statistics*** </font>"
   ]
  },
  {
   "cell_type": "code",
   "execution_count": 2,
   "metadata": {},
   "outputs": [],
   "source": [
    "# Data from https://www.ncaa.com/rankings/basketball-men/d1/ncaa-mens-basketball-net-rankings\n",
    "url = 'https://www.ncaa.com/rankings/basketball-men/d1/ncaa-mens-basketball-net-rankings'\n",
    "my_head = {'User-Agent': 'Mozilla/5.0'}\n",
    "response = requests.get(url, headers=my_head)\n",
    "\n",
    "soup = BeautifulSoup(response.content, 'html.parser')\n",
    "team_stats = soup.find_all('table', class_ = 'sticky')[0]\n",
    "\n",
    "basketballGameData = []\n",
    "for row in team_stats.find_all('tr'):\n",
    "    anon_team = [cell.text for cell in row.find_all('td')[1:8]]\n",
    "    basketballGameData.append(anon_team)\n",
    "\n",
    "# Putting it into a CSV file\n",
    "with open('AlgorithmReferenceData.csv', 'w') as someFile:\n",
    "    \n",
    "    fields = ['Rank', 'School', 'Conference', 'Record', 'Road', 'Neutral', 'Home']\n",
    "    csv_write = csv.DictWriter(someFile, fieldnames=fields, delimiter=',')\n",
    "    csv_write.writeheader()\n",
    "    \n",
    "    for plData in basketballGameData[1::]:\n",
    "        # Some unknown terminology \n",
    "        rec = int(plData[3].split('-')[0]) + int(plData[3].split('-')[1]) / 2\n",
    "        road = int(plData[4].split('-')[0]) + int(plData[4].split('-')[1]) / 2\n",
    "        neutral = int(plData[5].split('-')[0]) + int(plData[4].split('-')[1]) / 2\n",
    "        home = int(plData[6].split('-')[0]) + int(plData[6].split('-')[1]) / 2\n",
    "\n",
    "        # Input file for pandas\n",
    "        inputDt = {'Rank': int(plData[0]), \n",
    "                   'School': plData[1],\n",
    "                   'Conference': plData[2],\n",
    "                   'Record': rec,\n",
    "                   'Road' : road,\n",
    "                   'Neutral': neutral,\n",
    "                   'Home': home}\n",
    "\n",
    "        csv_write.writerow(inputDt)"
   ]
  },
  {
   "cell_type": "code",
   "execution_count": 3,
   "metadata": {},
   "outputs": [],
   "source": [
    "# Get data off of the brackets, (x VS y)\n",
    "brackets_url = 'https://www.ncaa.com/brackets/basketball-men/d1'\n",
    "bracket_response = requests.get(brackets_url, headers=my_head)\n",
    "\n",
    "brack_soup = BeautifulSoup(bracket_response.content, 'html.parser')\n",
    "topTeams = []\n",
    "\n",
    "for num in range(301, 317):\n",
    "    brack_stats = brack_soup.find(id=str(num))\n",
    "    anon_team = [east.text for east in brack_stats.find_all('span', class_ = 'name')]\n",
    "    topTeams.append(anon_team)\n",
    "\n",
    "# Setting up some stuff\n",
    "newList = []\n",
    "df = pd.read_csv('AlgorithmReferenceData.csv')\n",
    "\n",
    "df['EvaluationPoint'] = df.iloc[:, 3:7].sum(axis=1)\n",
    "_schoollst = df['School'].tolist()\n",
    "\n",
    "def getSchoolIndex(schoolName):\n",
    "    if schoolName not in _schoollst: return 40\n",
    "    else: return df[df.School == str(schoolName)].index[0]\n",
    "\n",
    "# tryna make the code look longer LOL\n",
    "def splitList(l, n : int):\n",
    "    for i in range(0, len(l), n):\n",
    "        yield l[i:i+n] \n",
    "\n",
    "tm = len(topTeams)\n",
    "while tm > 2:\n",
    "    for teamLen in range(tm):\n",
    "        a, b = topTeams[teamLen][0].strip(), topTeams[teamLen][1].strip()\n",
    "        if b == 'Mich. St.': b = 'Michigan St.'\n",
    "\n",
    "        a_eval = df['EvaluationPoint'][getSchoolIndex(a)]\n",
    "        b_eval = df['EvaluationPoint'][getSchoolIndex(b)]\n",
    "\n",
    "        newList.append(a if a_eval > b_eval else b)\n",
    "\n",
    "    # Clear the topTeams\n",
    "    topTeams.clear()\n",
    "    topTeams = list(splitList(newList, 2))\n",
    "    newList.clear()\n",
    "    tm = len(topTeams)"
   ]
  },
  {
   "cell_type": "markdown",
   "metadata": {},
   "source": [
    "## <font color='purple'> ***Making A Graph Using Matplotlib*** </font>"
   ]
  },
  {
   "cell_type": "code",
   "execution_count": 113,
   "metadata": {},
   "outputs": [
    {
     "data": {
      "image/png": "[encoded data removed]",
      "text/plain": [
       "<Figure size 576x396 with 1 Axes>"
      ]
     },
     "metadata": {},
     "output_type": "display_data"
    }
   ],
   "source": [
    "# Web scraping this data would be too much of a pain..\n",
    "Teams = 'Michigan St.', 'Buffalo', 'UC Irvine', 'Houston'\n",
    "data = [[78.7, 84.9, 72.9, 75.6], \n",
    "        [18.9, 16.9, 13.1, 15.1], \n",
    "        [43.7, 44.1, 43.5, 45.1]]\n",
    "\n",
    "x = np.arange(len(Teams))\n",
    "\n",
    "plt.style.use('seaborn')\n",
    "plt.bar(x + 0.1, data[0], width=0.25, color='#581D02', label='PPG', alpha=0.9)\n",
    "plt.bar(x + 0.35, data[2], width=0.25, color='#A95C39', label='APG', alpha=0.9)\n",
    "plt.bar(x + 0.60, data[1], width=0.25, color='#D58D6D', label='RPG', alpha=0.9)\n",
    "\n",
    "plt.ylabel('P o i n t s')\n",
    "plt.xlabel('T e a m s')\n",
    "plt.title('NCAA | Top 4 Teams')\n",
    "plt.xticks(x + width, Teams)\n",
    "\n",
    "plt.legend(loc='center left', bbox_to_anchor=(1, 0.5))\n",
    "plt.show()"
   ]
  },
  {
   "cell_type": "code",
   "execution_count": 115,
   "metadata": {
    "scrolled": true
   },
   "outputs": [
    {
     "data": {
      "text/plain": [
       "[['Michigan St.', 'Buffalo'], ['UC Irvine', 'Houston']]"
      ]
     },
     "execution_count": 115,
     "metadata": {},
     "output_type": "execute_result"
    }
   ],
   "source": [
    "topTeams"
   ]
  }
 ],
 "metadata": {
  "kernelspec": {
   "display_name": "Python 3",
   "language": "python",
   "name": "python3"
  },
  "language_info": {
   "codemirror_mode": {
    "name": "ipython",
    "version": 3
   },
   "file_extension": ".py",
   "mimetype": "text/x-python",
   "name": "python",
   "nbconvert_exporter": "python",
   "pygments_lexer": "ipython3",
   "version": "3.7.1"
  }
 },
 "nbformat": 4,
 "nbformat_minor": 2
}
